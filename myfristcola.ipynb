{
  "nbformat": 4,
  "nbformat_minor": 0,
  "metadata": {
    "colab": {
      "name": "myfristcola.ipynb",
      "version": "0.3.2",
      "provenance": [],
      "include_colab_link": true
    },
    "kernelspec": {
      "name": "python3",
      "display_name": "Python 3"
    }
  },
  "cells": [
    {
      "cell_type": "markdown",
      "metadata": {
        "id": "view-in-github",
        "colab_type": "text"
      },
      "source": [
        "<a href=\"https://colab.research.google.com/github/S107001893/C/blob/master/myfristcola.ipynb\" target=\"_parent\"><img src=\"https://colab.research.google.com/assets/colab-badge.svg\" alt=\"Open In Colab\"/></a>"
      ]
    },
    {
      "metadata": {
        "id": "lYtGw_Dln_ao",
        "colab_type": "code",
        "colab": {
          "base_uri": "https://localhost:8080/",
          "height": 34
        },
        "outputId": "581cdbcd-0915-44c2-c42b-b6ef366a86d5"
      },
      "cell_type": "code",
      "source": [
        "import tensorflow as tf\n",
        "from tensorflow import keras\n",
        "\n",
        "# Helper libraries\n",
        "import numpy as np\n",
        "import matplotlib.pyplot as plt\n",
        "\n",
        "print(tf.__version__)"
      ],
      "execution_count": 1,
      "outputs": [
        {
          "output_type": "stream",
          "text": [
            "1.12.0-rc2\n"
          ],
          "name": "stdout"
        }
      ]
    },
    {
      "metadata": {
        "id": "mmDgrrsaoGPX",
        "colab_type": "code",
        "colab": {}
      },
      "cell_type": "code",
      "source": [
        "# -*- coding: UTF-8 -*-\n",
        " \n",
        "# Filename : test.py\n",
        "# author by : www.runoob.com\n",
        " \n",
        "# 用户输入数字\n",
        "num1 = input('输入第一个数字：')\n",
        "num2 = input('输入第二个数字：')\n",
        " \n",
        "# 求和\n",
        "sum = float(num1) + float(num2)\n",
        " \n",
        "# 显示计算结果\n",
        "print('数字 {0} 和 {1} 相加结果为： {2}'.format(num1, num2, sum))"
      ],
      "execution_count": 0,
      "outputs": []
    },
    {
      "metadata": {
        "id": "2yFXk805pOZW",
        "colab_type": "text"
      },
      "cell_type": "markdown",
      "source": [
        ""
      ]
    },
    {
      "metadata": {
        "id": "UFp7Tz691bZK",
        "colab_type": "code",
        "colab": {
          "base_uri": "https://localhost:8080/",
          "height": 51
        },
        "outputId": "dd2cd11b-9b4f-4840-cd61-2360481e4c53"
      },
      "cell_type": "code",
      "source": [
        "# -*- coding: UTF-8 -*-\n",
        " \n",
        "# Filename : test.py\n",
        "# author by : www.runoob.com\n",
        " \n",
        "num = float(input('请输入一个数字： '))\n",
        "num_sqrt = num ** 0.5\n",
        "print(' %0.3f 的平方根为 %0.3f'%(num ,num_sqrt))"
      ],
      "execution_count": 9,
      "outputs": [
        {
          "output_type": "stream",
          "text": [
            "请输入一个数字： 16\n",
            " 16.000 的平方根为 4.000\n"
          ],
          "name": "stdout"
        }
      ]
    },
    {
      "metadata": {
        "id": "4RveWoM61yoS",
        "colab_type": "code",
        "colab": {
          "base_uri": "https://localhost:8080/",
          "height": 51
        },
        "outputId": "34c0dd37-131b-4bb2-f1aa-06cdcabcd446"
      },
      "cell_type": "code",
      "source": [
        "# -*- coding: UTF-8 -*-\n",
        " \n",
        "# Filename : test.py\n",
        "# author by : www.runoob.com\n",
        " \n",
        "# 计算实数和复数平方根\n",
        "# 导入复数数学模块\n",
        " \n",
        "import cmath\n",
        " \n",
        "num = int(input(\"请输入一个数字: \"))\n",
        "num_sqrt = cmath.sqrt(num)\n",
        "print('{0} 的平方根为 {1:0.3f}+{2:0.3f}j'.format(num ,num_sqrt.real,num_sqrt.imag))"
      ],
      "execution_count": 11,
      "outputs": [
        {
          "output_type": "stream",
          "text": [
            "请输入一个数字: 12\n",
            "12 的平方根为 3.464+0.000j\n"
          ],
          "name": "stdout"
        }
      ]
    },
    {
      "metadata": {
        "id": "pMpPCCDOoTDK",
        "colab_type": "text"
      },
      "cell_type": "markdown",
      "source": [
        "\n",
        "\n",
        "\n"
      ]
    }
  ]
}